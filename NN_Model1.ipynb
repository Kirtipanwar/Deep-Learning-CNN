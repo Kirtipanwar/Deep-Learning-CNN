{
  "nbformat": 4,
  "nbformat_minor": 0,
  "metadata": {
    "coursera": {
      "course_slug": "neural-networks-deep-learning",
      "graded_item_id": "c4HO0",
      "launcher_item_id": "lSYZM"
    },
    "kernelspec": {
      "display_name": "Python 3",
      "language": "python",
      "name": "python3"
    },
    "language_info": {
      "codemirror_mode": {
        "name": "ipython",
        "version": 3
      },
      "file_extension": ".py",
      "mimetype": "text/x-python",
      "name": "python",
      "nbconvert_exporter": "python",
      "pygments_lexer": "ipython3",
      "version": "3.6.0"
    },
    "colab": {
      "name": "NN_Model1.ipynb",
      "provenance": []
    }
  },
  "cells": [
    {
      "cell_type": "code",
      "metadata": {
        "id": "BXk9ikjVIllg",
        "colab_type": "code",
        "colab": {}
      },
      "source": [
        "import numpy as np\n",
        "import h5py\n",
        "import matplotlib.pyplot as plt\n",
        "%matplotlib inline\n",
        "plt.rcParams['figure.figsize'] = (5.0, 4.0) \n",
        "plt.rcParams['image.interpolation'] = 'nearest'\n",
        "plt.rcParams['image.cmap'] = 'gray'\n",
        "\n",
        "%load_ext autoreload\n",
        "%autoreload 2\n",
        "\n",
        "np.random.seed(1)"
      ],
      "execution_count": null,
      "outputs": []
    },
    {
      "cell_type": "code",
      "metadata": {
        "id": "8UfRSPGNmKD2",
        "colab_type": "code",
        "colab": {}
      },
      "source": [
        "import warnings\n",
        "warnings.filterwarnings('ignore')\n",
        "\n",
        "import os\n",
        "import numpy as np\n",
        "import pandas as pd\n",
        "\n",
        "from matplotlib import pyplot as plt \n",
        "%matplotlib inline\n",
        "\n",
        "import sklearn\n",
        "from sklearn.model_selection import train_test_split\n",
        "from sklearn.metrics import accuracy_score\n",
        "\n",
        "from sklearn.linear_model import LinearRegression\n",
        "\n",
        "import tensorflow as tf\n",
        "from tensorflow import keras\n",
        "from sklearn import preprocessing"
      ],
      "execution_count": null,
      "outputs": []
    },
    {
      "cell_type": "code",
      "metadata": {
        "id": "-Y4ytAUNmKYB",
        "colab_type": "code",
        "colab": {
          "base_uri": "https://localhost:8080/",
          "height": 122
        },
        "outputId": "dad8e431-3085-45cf-ee0c-11be1655a0ee"
      },
      "source": [
        "from google.colab import drive\n",
        "drive.mount('/content/gdrive')"
      ],
      "execution_count": null,
      "outputs": [
        {
          "output_type": "stream",
          "text": [
            "Go to this URL in a browser: https://accounts.google.com/o/oauth2/auth?client_id=947318989803-6bn6qk8qdgf4n4g3pfee6491hc0brc4i.apps.googleusercontent.com&redirect_uri=urn%3aietf%3awg%3aoauth%3a2.0%3aoob&response_type=code&scope=email%20https%3a%2f%2fwww.googleapis.com%2fauth%2fdocs.test%20https%3a%2f%2fwww.googleapis.com%2fauth%2fdrive%20https%3a%2f%2fwww.googleapis.com%2fauth%2fdrive.photos.readonly%20https%3a%2f%2fwww.googleapis.com%2fauth%2fpeopleapi.readonly\n",
            "\n",
            "Enter your authorization code:\n",
            "··········\n",
            "Mounted at /content/gdrive\n"
          ],
          "name": "stdout"
        }
      ]
    },
    {
      "cell_type": "code",
      "metadata": {
        "id": "iwx2Q3TumKir",
        "colab_type": "code",
        "colab": {}
      },
      "source": [
        "id = pd.read_csv('/content/gdrive/My Drive/id.csv')"
      ],
      "execution_count": null,
      "outputs": []
    },
    {
      "cell_type": "code",
      "metadata": {
        "id": "DDGlKeEVmKo5",
        "colab_type": "code",
        "colab": {
          "base_uri": "https://localhost:8080/",
          "height": 204
        },
        "outputId": "4668c7ee-b164-4931-8dbc-9e66e2de40ec"
      },
      "source": [
        "id.head(5)"
      ],
      "execution_count": null,
      "outputs": [
        {
          "output_type": "execute_result",
          "data": {
            "text/html": [
              "<div>\n",
              "<style scoped>\n",
              "    .dataframe tbody tr th:only-of-type {\n",
              "        vertical-align: middle;\n",
              "    }\n",
              "\n",
              "    .dataframe tbody tr th {\n",
              "        vertical-align: top;\n",
              "    }\n",
              "\n",
              "    .dataframe thead th {\n",
              "        text-align: right;\n",
              "    }\n",
              "</style>\n",
              "<table border=\"1\" class=\"dataframe\">\n",
              "  <thead>\n",
              "    <tr style=\"text-align: right;\">\n",
              "      <th></th>\n",
              "      <th>x</th>\n",
              "      <th>y</th>\n",
              "      <th>t</th>\n",
              "    </tr>\n",
              "  </thead>\n",
              "  <tbody>\n",
              "    <tr>\n",
              "      <th>0</th>\n",
              "      <td>0</td>\n",
              "      <td>249</td>\n",
              "      <td>7</td>\n",
              "    </tr>\n",
              "    <tr>\n",
              "      <th>1</th>\n",
              "      <td>5</td>\n",
              "      <td>249</td>\n",
              "      <td>15</td>\n",
              "    </tr>\n",
              "    <tr>\n",
              "      <th>2</th>\n",
              "      <td>11</td>\n",
              "      <td>248</td>\n",
              "      <td>23</td>\n",
              "    </tr>\n",
              "    <tr>\n",
              "      <th>3</th>\n",
              "      <td>17</td>\n",
              "      <td>246</td>\n",
              "      <td>31</td>\n",
              "    </tr>\n",
              "    <tr>\n",
              "      <th>4</th>\n",
              "      <td>22</td>\n",
              "      <td>243</td>\n",
              "      <td>40</td>\n",
              "    </tr>\n",
              "  </tbody>\n",
              "</table>\n",
              "</div>"
            ],
            "text/plain": [
              "    x    y   t\n",
              "0   0  249   7\n",
              "1   5  249  15\n",
              "2  11  248  23\n",
              "3  17  246  31\n",
              "4  22  243  40"
            ]
          },
          "metadata": {
            "tags": []
          },
          "execution_count": 11
        }
      ]
    },
    {
      "cell_type": "code",
      "metadata": {
        "id": "7ST5dzyOmKxl",
        "colab_type": "code",
        "colab": {
          "base_uri": "https://localhost:8080/",
          "height": 297
        },
        "outputId": "2182c06f-6e99-4f4f-848b-f6611519caa8"
      },
      "source": [
        "id.describe()"
      ],
      "execution_count": null,
      "outputs": [
        {
          "output_type": "execute_result",
          "data": {
            "text/html": [
              "<div>\n",
              "<style scoped>\n",
              "    .dataframe tbody tr th:only-of-type {\n",
              "        vertical-align: middle;\n",
              "    }\n",
              "\n",
              "    .dataframe tbody tr th {\n",
              "        vertical-align: top;\n",
              "    }\n",
              "\n",
              "    .dataframe thead th {\n",
              "        text-align: right;\n",
              "    }\n",
              "</style>\n",
              "<table border=\"1\" class=\"dataframe\">\n",
              "  <thead>\n",
              "    <tr style=\"text-align: right;\">\n",
              "      <th></th>\n",
              "      <th>x</th>\n",
              "      <th>y</th>\n",
              "      <th>t</th>\n",
              "    </tr>\n",
              "  </thead>\n",
              "  <tbody>\n",
              "    <tr>\n",
              "      <th>count</th>\n",
              "      <td>178.000000</td>\n",
              "      <td>178.000000</td>\n",
              "      <td>178.000000</td>\n",
              "    </tr>\n",
              "    <tr>\n",
              "      <th>mean</th>\n",
              "      <td>391.050562</td>\n",
              "      <td>85.022472</td>\n",
              "      <td>569.550562</td>\n",
              "    </tr>\n",
              "    <tr>\n",
              "      <th>std</th>\n",
              "      <td>199.400267</td>\n",
              "      <td>60.070105</td>\n",
              "      <td>271.411731</td>\n",
              "    </tr>\n",
              "    <tr>\n",
              "      <th>min</th>\n",
              "      <td>0.000000</td>\n",
              "      <td>0.000000</td>\n",
              "      <td>7.000000</td>\n",
              "    </tr>\n",
              "    <tr>\n",
              "      <th>25%</th>\n",
              "      <td>226.000000</td>\n",
              "      <td>43.000000</td>\n",
              "      <td>330.250000</td>\n",
              "    </tr>\n",
              "    <tr>\n",
              "      <th>50%</th>\n",
              "      <td>412.000000</td>\n",
              "      <td>67.000000</td>\n",
              "      <td>595.000000</td>\n",
              "    </tr>\n",
              "    <tr>\n",
              "      <th>75%</th>\n",
              "      <td>565.250000</td>\n",
              "      <td>116.000000</td>\n",
              "      <td>814.750000</td>\n",
              "    </tr>\n",
              "    <tr>\n",
              "      <th>max</th>\n",
              "      <td>691.000000</td>\n",
              "      <td>249.000000</td>\n",
              "      <td>997.000000</td>\n",
              "    </tr>\n",
              "  </tbody>\n",
              "</table>\n",
              "</div>"
            ],
            "text/plain": [
              "                x           y           t\n",
              "count  178.000000  178.000000  178.000000\n",
              "mean   391.050562   85.022472  569.550562\n",
              "std    199.400267   60.070105  271.411731\n",
              "min      0.000000    0.000000    7.000000\n",
              "25%    226.000000   43.000000  330.250000\n",
              "50%    412.000000   67.000000  595.000000\n",
              "75%    565.250000  116.000000  814.750000\n",
              "max    691.000000  249.000000  997.000000"
            ]
          },
          "metadata": {
            "tags": []
          },
          "execution_count": 12
        }
      ]
    },
    {
      "cell_type": "code",
      "metadata": {
        "id": "z4wrDEfQmK3f",
        "colab_type": "code",
        "colab": {
          "base_uri": "https://localhost:8080/",
          "height": 85
        },
        "outputId": "c194c41a-175c-4419-8da2-e952dde906f5"
      },
      "source": [
        "id.var()"
      ],
      "execution_count": null,
      "outputs": [
        {
          "output_type": "execute_result",
          "data": {
            "text/plain": [
              "x    39760.466356\n",
              "y     3608.417571\n",
              "t    73664.327938\n",
              "dtype: float64"
            ]
          },
          "metadata": {
            "tags": []
          },
          "execution_count": 13
        }
      ]
    },
    {
      "cell_type": "code",
      "metadata": {
        "id": "YLMFtvlxmK9h",
        "colab_type": "code",
        "colab": {
          "base_uri": "https://localhost:8080/",
          "height": 187
        },
        "outputId": "d91792f1-f5f0-4179-bc1e-64081b3c8fd4"
      },
      "source": [
        "id.info()"
      ],
      "execution_count": null,
      "outputs": [
        {
          "output_type": "stream",
          "text": [
            "<class 'pandas.core.frame.DataFrame'>\n",
            "RangeIndex: 178 entries, 0 to 177\n",
            "Data columns (total 3 columns):\n",
            " #   Column  Non-Null Count  Dtype\n",
            "---  ------  --------------  -----\n",
            " 0   x       178 non-null    int64\n",
            " 1   y       178 non-null    int64\n",
            " 2   t       178 non-null    int64\n",
            "dtypes: int64(3)\n",
            "memory usage: 4.3 KB\n"
          ],
          "name": "stdout"
        }
      ]
    },
    {
      "cell_type": "code",
      "metadata": {
        "id": "wPUi1JArmKuL",
        "colab_type": "code",
        "colab": {
          "base_uri": "https://localhost:8080/",
          "height": 85
        },
        "outputId": "751b5bb5-f317-4756-b065-196769fb3898"
      },
      "source": [
        "id.isnull().any()"
      ],
      "execution_count": null,
      "outputs": [
        {
          "output_type": "execute_result",
          "data": {
            "text/plain": [
              "x    False\n",
              "y    False\n",
              "t    False\n",
              "dtype: bool"
            ]
          },
          "metadata": {
            "tags": []
          },
          "execution_count": 15
        }
      ]
    },
    {
      "cell_type": "code",
      "metadata": {
        "id": "oPkwXsRRnDsa",
        "colab_type": "code",
        "colab": {
          "base_uri": "https://localhost:8080/",
          "height": 85
        },
        "outputId": "f4cdbf80-b462-4995-9287-5505d8c72522"
      },
      "source": [
        "round(100*(id.isnull().sum()/len(id.index)),2)"
      ],
      "execution_count": null,
      "outputs": [
        {
          "output_type": "execute_result",
          "data": {
            "text/plain": [
              "x    0.0\n",
              "y    0.0\n",
              "t    0.0\n",
              "dtype: float64"
            ]
          },
          "metadata": {
            "tags": []
          },
          "execution_count": 16
        }
      ]
    },
    {
      "cell_type": "code",
      "metadata": {
        "id": "qRFAPjl7nDpf",
        "colab_type": "code",
        "colab": {}
      },
      "source": [
        "id_num=id[list(id.dtypes[id.dtypes!='object'].index)]"
      ],
      "execution_count": null,
      "outputs": []
    },
    {
      "cell_type": "code",
      "metadata": {
        "id": "VX6RGBXhnDlm",
        "colab_type": "code",
        "colab": {}
      },
      "source": [
        "id_y = id_num.pop('x')\n",
        "id_x = id_num"
      ],
      "execution_count": null,
      "outputs": []
    },
    {
      "cell_type": "code",
      "metadata": {
        "id": "s1EobLE5nRxg",
        "colab_type": "code",
        "colab": {}
      },
      "source": [
        "train_x,test_x,train_y,test_y = train_test_split(id_x,id_y,test_size = 0.25,random_state=101)"
      ],
      "execution_count": null,
      "outputs": []
    },
    {
      "cell_type": "code",
      "metadata": {
        "id": "fncg9LTcnRr7",
        "colab_type": "code",
        "colab": {
          "base_uri": "https://localhost:8080/",
          "height": 204
        },
        "outputId": "45765d5d-be48-4d39-a421-ee50f53906f0"
      },
      "source": [
        "train_x.head()"
      ],
      "execution_count": null,
      "outputs": [
        {
          "output_type": "execute_result",
          "data": {
            "text/html": [
              "<div>\n",
              "<style scoped>\n",
              "    .dataframe tbody tr th:only-of-type {\n",
              "        vertical-align: middle;\n",
              "    }\n",
              "\n",
              "    .dataframe tbody tr th {\n",
              "        vertical-align: top;\n",
              "    }\n",
              "\n",
              "    .dataframe thead th {\n",
              "        text-align: right;\n",
              "    }\n",
              "</style>\n",
              "<table border=\"1\" class=\"dataframe\">\n",
              "  <thead>\n",
              "    <tr style=\"text-align: right;\">\n",
              "      <th></th>\n",
              "      <th>y</th>\n",
              "      <th>t</th>\n",
              "    </tr>\n",
              "  </thead>\n",
              "  <tbody>\n",
              "    <tr>\n",
              "      <th>94</th>\n",
              "      <td>94</td>\n",
              "      <td>612</td>\n",
              "    </tr>\n",
              "    <tr>\n",
              "      <th>80</th>\n",
              "      <td>30</td>\n",
              "      <td>580</td>\n",
              "    </tr>\n",
              "    <tr>\n",
              "      <th>131</th>\n",
              "      <td>23</td>\n",
              "      <td>813</td>\n",
              "    </tr>\n",
              "    <tr>\n",
              "      <th>149</th>\n",
              "      <td>65</td>\n",
              "      <td>854</td>\n",
              "    </tr>\n",
              "    <tr>\n",
              "      <th>121</th>\n",
              "      <td>36</td>\n",
              "      <td>775</td>\n",
              "    </tr>\n",
              "  </tbody>\n",
              "</table>\n",
              "</div>"
            ],
            "text/plain": [
              "      y    t\n",
              "94   94  612\n",
              "80   30  580\n",
              "131  23  813\n",
              "149  65  854\n",
              "121  36  775"
            ]
          },
          "metadata": {
            "tags": []
          },
          "execution_count": 20
        }
      ]
    },
    {
      "cell_type": "code",
      "metadata": {
        "id": "I7hbuD0knkF9",
        "colab_type": "code",
        "colab": {}
      },
      "source": [
        "train_y.head()"
      ],
      "execution_count": null,
      "outputs": []
    },
    {
      "cell_type": "code",
      "metadata": {
        "id": "IWcqxaLRIllk",
        "colab_type": "code",
        "colab": {}
      },
      "source": [
        "\n",
        "def initialize_parameters(n_x, n_h, n_y):\n",
        "    \n",
        "    W1 = np.random.randn(n_h, n_x) * 0.01\n",
        "    b1 = np.zeros(shape=(n_h, 1))\n",
        "    W2 = np.random.randn(n_y, n_h) * 0.01\n",
        "    b2 = np.zeros(shape=(n_y, 1))\n",
        "  \n",
        "    assert(W1.shape == (n_h, n_x))\n",
        "    assert(b1.shape == (n_h, 1))\n",
        "    assert(W2.shape == (n_y, n_h))\n",
        "    assert(b2.shape == (n_y, 1))\n",
        "    \n",
        "    parameters = {\"W1\": W1,\n",
        "                  \"b1\": b1,\n",
        "                  \"W2\": W2,\n",
        "                  \"b2\": b2}\n",
        "    \n",
        "    return parameters    "
      ],
      "execution_count": null,
      "outputs": []
    },
    {
      "cell_type": "code",
      "metadata": {
        "id": "pX8yRGojnip4",
        "colab_type": "code",
        "colab": {}
      },
      "source": [
        ""
      ],
      "execution_count": null,
      "outputs": []
    },
    {
      "cell_type": "code",
      "metadata": {
        "scrolled": true,
        "id": "-sx0pNruIllm",
        "colab_type": "code",
        "colab": {
          "base_uri": "https://localhost:8080/",
          "height": 119
        },
        "outputId": "76d87dbc-7613-438f-91b7-fd42d79af2cc"
      },
      "source": [
        "parameters = initialize_parameters(3,2,1)\n",
        "print(\"W1 = \" + str(parameters[\"W1\"]))\n",
        "print(\"b1 = \" + str(parameters[\"b1\"]))\n",
        "print(\"W2 = \" + str(parameters[\"W2\"]))\n",
        "print(\"b2 = \" + str(parameters[\"b2\"]))"
      ],
      "execution_count": null,
      "outputs": [
        {
          "output_type": "stream",
          "text": [
            "W1 = [[ 0.01624345 -0.00611756 -0.00528172]\n",
            " [-0.01072969  0.00865408 -0.02301539]]\n",
            "b1 = [[0.]\n",
            " [0.]]\n",
            "W2 = [[ 0.01744812 -0.00761207]]\n",
            "b2 = [[0.]]\n"
          ],
          "name": "stdout"
        }
      ]
    },
    {
      "cell_type": "code",
      "metadata": {
        "id": "fEJMdUvLIllq",
        "colab_type": "code",
        "colab": {}
      },
      "source": [
        "\n",
        "def initialize_parameters_deep(layer_dims):\n",
        "   \n",
        "    \n",
        "    np.random.seed(3)\n",
        "    parameters = {}\n",
        "    L = len(layer_dims)            \n",
        "\n",
        "    for l in range(1, L):\n",
        "       \n",
        "        parameters['W' + str(l)] = np.random.randn(layer_dims[l], layer_dims[l - 1]) * 0.01\n",
        "        parameters['b' + str(l)] = np.zeros((layer_dims[l], 1))\n",
        "       \n",
        "        \n",
        "        assert(parameters['W' + str(l)].shape == (layer_dims[l], layer_dims[l-1]))\n",
        "        assert(parameters['b' + str(l)].shape == (layer_dims[l], 1))\n",
        "\n",
        "        \n",
        "    return parameters"
      ],
      "execution_count": null,
      "outputs": []
    },
    {
      "cell_type": "code",
      "metadata": {
        "id": "DCE4S9pkIllu",
        "colab_type": "code",
        "colab": {
          "base_uri": "https://localhost:8080/",
          "height": 255
        },
        "outputId": "df9955fc-119c-4340-9bfb-464459e30b4f"
      },
      "source": [
        "parameters = initialize_parameters_deep([5,4,3])\n",
        "print(\"W1 = \" + str(parameters[\"W1\"]))\n",
        "print(\"b1 = \" + str(parameters[\"b1\"]))\n",
        "print(\"W2 = \" + str(parameters[\"W2\"]))\n",
        "print(\"b2 = \" + str(parameters[\"b2\"]))"
      ],
      "execution_count": null,
      "outputs": [
        {
          "output_type": "stream",
          "text": [
            "W1 = [[ 0.01788628  0.0043651   0.00096497 -0.01863493 -0.00277388]\n",
            " [-0.00354759 -0.00082741 -0.00627001 -0.00043818 -0.00477218]\n",
            " [-0.01313865  0.00884622  0.00881318  0.01709573  0.00050034]\n",
            " [-0.00404677 -0.0054536  -0.01546477  0.00982367 -0.01101068]]\n",
            "b1 = [[0.]\n",
            " [0.]\n",
            " [0.]\n",
            " [0.]]\n",
            "W2 = [[-0.01185047 -0.0020565   0.01486148  0.00236716]\n",
            " [-0.01023785 -0.00712993  0.00625245 -0.00160513]\n",
            " [-0.00768836 -0.00230031  0.00745056  0.01976111]]\n",
            "b2 = [[0.]\n",
            " [0.]\n",
            " [0.]]\n"
          ],
          "name": "stdout"
        }
      ]
    },
    {
      "cell_type": "code",
      "metadata": {
        "id": "DWlbnCy9Illx",
        "colab_type": "code",
        "colab": {}
      },
      "source": [
        "\n",
        "def linear_forward(A, W, b):\n",
        "  \n",
        "    Z = np.dot(W, A) + b\n",
        "\n",
        "    assert(Z.shape == (W.shape[0], A.shape[1]))\n",
        "    cache = (A, W, b)\n",
        "    \n",
        "    return Z, cache"
      ],
      "execution_count": null,
      "outputs": []
    },
    {
      "cell_type": "code",
      "metadata": {
        "id": "3fzlmbSImIrZ",
        "colab_type": "code",
        "colab": {}
      },
      "source": [
        ""
      ],
      "execution_count": null,
      "outputs": []
    },
    {
      "cell_type": "code",
      "metadata": {
        "id": "71_SEZpMIllz",
        "colab_type": "code",
        "colab": {},
        "outputId": "529b2f43-1b22-4026-cfd2-95fef4b7ea64"
      },
      "source": [
        "A, W, b = linear_forward_test_case()\n",
        "\n",
        "Z, linear_cache = linear_forward(A, W, b)\n",
        "print(\"Z = \" + str(Z))"
      ],
      "execution_count": null,
      "outputs": [
        {
          "output_type": "stream",
          "text": [
            "Z = [[ 3.26295337 -1.23429987]]\n"
          ],
          "name": "stdout"
        }
      ]
    },
    {
      "cell_type": "code",
      "metadata": {
        "id": "bDjjWWpNIll3",
        "colab_type": "code",
        "colab": {}
      },
      "source": [
        "\n",
        "\n",
        "def linear_activation_forward(A_prev, W, b, activation):\n",
        "    \n",
        "    \n",
        "    if activation == \"sigmoid\":\n",
        "       \n",
        "        Z, linear_cache = linear_forward(A_prev, W, b)\n",
        "        A, activation_cache = sigmoid(Z)\n",
        "       \n",
        "    \n",
        "    elif activation == \"relu\":\n",
        "       \n",
        "        Z, linear_cache = linear_forward(A_prev, W, b)\n",
        "        A, activation_cache = relu(Z)\n",
        "       \n",
        "    \n",
        "    assert (A.shape == (W.shape[0], A_prev.shape[1]))\n",
        "    cache = (linear_cache, activation_cache)\n",
        "\n",
        "    return A, cache"
      ],
      "execution_count": null,
      "outputs": []
    },
    {
      "cell_type": "code",
      "metadata": {
        "id": "Kc7IsYHYIll4",
        "colab_type": "code",
        "colab": {},
        "outputId": "37be1284-e046-4cc5-b4e0-5b9f7714062a"
      },
      "source": [
        "A_prev, W, b = linear_activation_forward_test_case()\n",
        "\n",
        "A, linear_activation_cache = linear_activation_forward(A_prev, W, b, activation = \"sigmoid\")\n",
        "print(\"With sigmoid: A = \" + str(A))\n",
        "\n",
        "A, linear_activation_cache = linear_activation_forward(A_prev, W, b, activation = \"relu\")\n",
        "print(\"With ReLU: A = \" + str(A))"
      ],
      "execution_count": null,
      "outputs": [
        {
          "output_type": "stream",
          "text": [
            "With sigmoid: A = [[ 0.96890023  0.11013289]]\n",
            "With ReLU: A = [[ 3.43896131  0.        ]]\n"
          ],
          "name": "stdout"
        }
      ]
    },
    {
      "cell_type": "code",
      "metadata": {
        "id": "xZ_O2HDTIll8",
        "colab_type": "code",
        "colab": {}
      },
      "source": [
        "\n",
        "\n",
        "def L_model_forward(X, parameters):\n",
        "    \n",
        "\n",
        "    caches = []\n",
        "    A = X\n",
        "    L = len(parameters) // 2                \n",
        "    \n",
        "    \n",
        "    for l in range(1, L):\n",
        "        A_prev = A \n",
        "       \n",
        "        A, cache = linear_activation_forward(A_prev, \n",
        "                                             parameters['W' + str(l)], \n",
        "                                             parameters['b' + str(l)], \n",
        "                                             activation='relu')\n",
        "        caches.append(cache)\n",
        "    AL, cache = linear_activation_forward(A, \n",
        "                                          parameters['W' + str(L)], \n",
        "                                          parameters['b' + str(L)], \n",
        "                                          activation='sigmoid')\n",
        "    caches.append(cache)\n",
        "   \n",
        "    \n",
        "    assert(AL.shape == (1,X.shape[1]))\n",
        "            \n",
        "    return AL, caches"
      ],
      "execution_count": null,
      "outputs": []
    },
    {
      "cell_type": "code",
      "metadata": {
        "id": "83WUeqzwIll-",
        "colab_type": "code",
        "colab": {},
        "outputId": "56fdfa3a-d260-4862-cfa1-454abcb8d9a3"
      },
      "source": [
        "X, parameters = L_model_forward_test_case_2hidden()\n",
        "AL, caches = L_model_forward(X, parameters)\n",
        "print(\"AL = \" + str(AL))\n",
        "print(\"Length of caches list = \" + str(len(caches)))"
      ],
      "execution_count": null,
      "outputs": [
        {
          "output_type": "stream",
          "text": [
            "AL = [[ 0.03921668  0.70498921  0.19734387  0.04728177]]\n",
            "Length of caches list = 3\n"
          ],
          "name": "stdout"
        }
      ]
    },
    {
      "cell_type": "code",
      "metadata": {
        "id": "dPffdmOWIlmC",
        "colab_type": "code",
        "colab": {}
      },
      "source": [
        "\n",
        "\n",
        "def compute_cost(AL, Y):\n",
        "    \n",
        "    m = Y.shape[1]\n",
        "\n",
        "    \n",
        "    cost = (-1 / m) * np.sum(np.multiply(Y, np.log(AL)) + np.multiply(1 - Y, np.log(1 - AL)))\n",
        "   \n",
        "\n",
        "    cost = np.squeeze(cost)     \n",
        "    assert(cost.shape == ())\n",
        "    \n",
        "    return cost"
      ],
      "execution_count": null,
      "outputs": []
    },
    {
      "cell_type": "code",
      "metadata": {
        "id": "APqOtcyGIlmD",
        "colab_type": "code",
        "colab": {},
        "outputId": "cabefdca-b55f-4827-a3dd-3f6a9db8ade7"
      },
      "source": [
        "Y, AL = compute_cost_test_case()\n",
        "\n",
        "print(\"cost = \" + str(compute_cost(AL, Y)))"
      ],
      "execution_count": null,
      "outputs": [
        {
          "output_type": "stream",
          "text": [
            "cost = 0.279776563579\n"
          ],
          "name": "stdout"
        }
      ]
    },
    {
      "cell_type": "code",
      "metadata": {
        "id": "jRnn1LZ8IlmJ",
        "colab_type": "code",
        "colab": {}
      },
      "source": [
        "\n",
        "\n",
        "def linear_backward(dZ, cache):\n",
        "    \n",
        "    A_prev, W, b = cache\n",
        "    m = A_prev.shape[1]\n",
        "\n",
        "    \n",
        "    dW = 1 / m * dZ @ A_prev.T\n",
        "    db = 1 / m * np.sum(dZ, axis=1, keepdims=True)\n",
        "    dA_prev = W.T @ dZ\n",
        "    \n",
        "    assert (dA_prev.shape == A_prev.shape)\n",
        "    assert (dW.shape == W.shape)\n",
        "    assert (db.shape == b.shape)\n",
        "    \n",
        "    return dA_prev, dW, db"
      ],
      "execution_count": null,
      "outputs": []
    },
    {
      "cell_type": "code",
      "metadata": {
        "id": "qEGbA6s6IlmK",
        "colab_type": "code",
        "colab": {},
        "outputId": "79f83788-8a62-4ad3-daab-15d50d0e1583"
      },
      "source": [
        "\n",
        "dZ, linear_cache = linear_backward_test_case()\n",
        "dA_prev, dW, db = linear_backward(dZ, linear_cache)\n",
        "print (\"dA_prev = \"+ str(dA_prev))\n",
        "print (\"dW = \" + str(dW))\n",
        "print (\"db = \" + str(db))"
      ],
      "execution_count": null,
      "outputs": [
        {
          "output_type": "stream",
          "text": [
            "dA_prev = [[-1.15171336  0.06718465 -0.3204696   2.09812712]\n",
            " [ 0.60345879 -3.72508701  5.81700741 -3.84326836]\n",
            " [-0.4319552  -1.30987417  1.72354705  0.05070578]\n",
            " [-0.38981415  0.60811244 -1.25938424  1.47191593]\n",
            " [-2.52214926  2.67882552 -0.67947465  1.48119548]]\n",
            "dW = [[ 0.07313866 -0.0976715  -0.87585828  0.73763362  0.00785716]\n",
            " [ 0.85508818  0.37530413 -0.59912655  0.71278189 -0.58931808]\n",
            " [ 0.97913304 -0.24376494 -0.08839671  0.55151192 -0.10290907]]\n",
            "db = [[-0.14713786]\n",
            " [-0.11313155]\n",
            " [-0.13209101]]\n"
          ],
          "name": "stdout"
        }
      ]
    },
    {
      "cell_type": "code",
      "metadata": {
        "id": "u9YTYxwCIlmN",
        "colab_type": "code",
        "colab": {}
      },
      "source": [
        "\n",
        "\n",
        "def linear_activation_backward(dA, cache, activation):\n",
        "    \n",
        "    linear_cache, activation_cache = cache\n",
        "    \n",
        "    if activation == \"relu\":\n",
        "        \n",
        "        dZ = relu_backward(dA, activation_cache)\n",
        "        dA_prev, dW, db = linear_backward(dZ, linear_cache)\n",
        "      \n",
        "        \n",
        "    elif activation == \"sigmoid\":\n",
        "       \n",
        "        dZ = sigmoid_backward(dA, activation_cache)\n",
        "        dA_prev, dW, db = linear_backward(dZ, linear_cache)\n",
        "       \n",
        "    \n",
        "    return dA_prev, dW, db"
      ],
      "execution_count": null,
      "outputs": []
    },
    {
      "cell_type": "code",
      "metadata": {
        "id": "TolHtuj9IlmO",
        "colab_type": "code",
        "colab": {},
        "outputId": "7cf13ab0-553e-4a50-d1f0-540ebf96f53a"
      },
      "source": [
        "dAL, linear_activation_cache = linear_activation_backward_test_case()\n",
        "\n",
        "dA_prev, dW, db = linear_activation_backward(dAL, linear_activation_cache, activation = \"sigmoid\")\n",
        "print (\"sigmoid:\")\n",
        "print (\"dA_prev = \"+ str(dA_prev))\n",
        "print (\"dW = \" + str(dW))\n",
        "print (\"db = \" + str(db) + \"\\n\")\n",
        "\n",
        "dA_prev, dW, db = linear_activation_backward(dAL, linear_activation_cache, activation = \"relu\")\n",
        "print (\"relu:\")\n",
        "print (\"dA_prev = \"+ str(dA_prev))\n",
        "print (\"dW = \" + str(dW))\n",
        "print (\"db = \" + str(db))"
      ],
      "execution_count": null,
      "outputs": [
        {
          "output_type": "stream",
          "text": [
            "sigmoid:\n",
            "dA_prev = [[ 0.11017994  0.01105339]\n",
            " [ 0.09466817  0.00949723]\n",
            " [-0.05743092 -0.00576154]]\n",
            "dW = [[ 0.10266786  0.09778551 -0.01968084]]\n",
            "db = [[-0.05729622]]\n",
            "\n",
            "relu:\n",
            "dA_prev = [[ 0.44090989 -0.        ]\n",
            " [ 0.37883606 -0.        ]\n",
            " [-0.2298228   0.        ]]\n",
            "dW = [[ 0.44513824  0.37371418 -0.10478989]]\n",
            "db = [[-0.20837892]]\n"
          ],
          "name": "stdout"
        }
      ]
    },
    {
      "cell_type": "code",
      "metadata": {
        "id": "hTw3w0SoIlmR",
        "colab_type": "code",
        "colab": {}
      },
      "source": [
        "\n",
        "\n",
        "def L_model_backward(AL, Y, caches):\n",
        "    \n",
        "    grads = {}\n",
        "    L = len(caches) \n",
        "    m = AL.shape[1]\n",
        "    Y = Y.reshape(AL.shape)\n",
        "    \n",
        "    \n",
        "    dAL = - (np.divide(Y, AL) - np.divide(1 - Y, 1 - AL))\n",
        "    \n",
        "    current_cache = caches[L-1]\n",
        "    grads[\"dA\" + str(L-1)], grads[\"dW\" + str(L)], grads[\"db\" + str(L)] = linear_activation_backward(dAL, current_cache, 'sigmoid')\n",
        "   \n",
        "    for l in reversed(range(L-1)):\n",
        "        \n",
        "        current_cache = caches[l]\n",
        "        dA_prev_temp, dW_temp, db_temp = linear_backward(sigmoid_backward(dAL, current_cache[1]), current_cache[0])\n",
        "        grads[\"dA\" + str(l + 1)] = dA_prev_temp\n",
        "        grads[\"dW\" + str(l + 1)] = dW_temp\n",
        "        grads[\"db\" + str(l + 1)] = db_temp\n",
        "       \n",
        "    return grads"
      ],
      "execution_count": null,
      "outputs": []
    },
    {
      "cell_type": "code",
      "metadata": {
        "id": "t3TtBAL6IlmT",
        "colab_type": "code",
        "colab": {},
        "outputId": "68d4ecea-2a8d-4918-e919-7eb41ad182ab"
      },
      "source": [
        "AL, Y_assess, caches = L_model_backward_test_case()\n",
        "grads = L_model_backward(AL, Y_assess, caches)\n",
        "print_grads(grads)"
      ],
      "execution_count": null,
      "outputs": [
        {
          "output_type": "stream",
          "text": [
            "dW1 = [[-0.38142895 -0.05436378 -0.12122851 -0.09345065]\n",
            " [-0.36454443 -0.04886266 -0.11465667 -0.08859687]\n",
            " [-0.36758766 -0.04958047 -0.11573455 -0.08940829]]\n",
            "db1 = [[ 0.13978379]\n",
            " [ 0.12259085]\n",
            " [ 0.12471635]]\n",
            "dA1 = [[ 0.01969098 -0.12970306]\n",
            " [ 0.09890728 -0.22545732]\n",
            " [ 0.1304364  -0.31335009]\n",
            " [ 0.03215356  0.01532388]]\n"
          ],
          "name": "stdout"
        }
      ]
    },
    {
      "cell_type": "code",
      "metadata": {
        "id": "kiPv0OPAIlmX",
        "colab_type": "code",
        "colab": {}
      },
      "source": [
        "\n",
        "def update_parameters(parameters, grads, learning_rate):\n",
        "   \n",
        "    \n",
        "    L = len(parameters) // 2\n",
        "    \n",
        "    for l in range(L):\n",
        "        parameters[\"W\" + str(l + 1)] = parameters[\"W\" + str(l + 1)] - learning_rate * grads[\"dW\" + str(l + 1)]\n",
        "        parameters[\"b\" + str(l + 1)] = parameters[\"b\" + str(l + 1)] - learning_rate * grads[\"db\" + str(l + 1)]\n",
        "   \n",
        "    return parameters"
      ],
      "execution_count": null,
      "outputs": []
    },
    {
      "cell_type": "code",
      "metadata": {
        "id": "YyWSvgciIlmY",
        "colab_type": "code",
        "colab": {},
        "outputId": "a38f1b90-eb4b-4305-f8f0-927ed953d7f4"
      },
      "source": [
        "parameters, grads = update_parameters_test_case()\n",
        "parameters = update_parameters(parameters, grads, 0.1)\n",
        "\n",
        "print (\"W1 = \"+ str(parameters[\"W1\"]))\n",
        "print (\"b1 = \"+ str(parameters[\"b1\"]))\n",
        "print (\"W2 = \"+ str(parameters[\"W2\"]))\n",
        "print (\"b2 = \"+ str(parameters[\"b2\"]))"
      ],
      "execution_count": null,
      "outputs": [
        {
          "output_type": "stream",
          "text": [
            "W1 = [[-0.59562069 -0.09991781 -2.14584584  1.82662008]\n",
            " [-1.76569676 -0.80627147  0.51115557 -1.18258802]\n",
            " [-1.0535704  -0.86128581  0.68284052  2.20374577]]\n",
            "b1 = [[-0.04659241]\n",
            " [-1.28888275]\n",
            " [ 0.53405496]]\n",
            "W2 = [[-0.55569196  0.0354055   1.32964895]]\n",
            "b2 = [[-0.84610769]]\n"
          ],
          "name": "stdout"
        }
      ]
    }
  ]
}